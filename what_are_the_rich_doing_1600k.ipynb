{
 "cells": [
  {
   "cell_type": "code",
   "execution_count": 1,
   "id": "68f5b204",
   "metadata": {},
   "outputs": [],
   "source": [
    "import numpy as np\n",
    "import pandas as pd"
   ]
  },
  {
   "cell_type": "code",
   "execution_count": 2,
   "id": "76c9e434",
   "metadata": {},
   "outputs": [],
   "source": [
    "data = pd.read_csv('data/data.csv')"
   ]
  },
  {
   "cell_type": "code",
   "execution_count": 3,
   "id": "525e4e7e",
   "metadata": {},
   "outputs": [],
   "source": [
    "subset = data[data.PINCP > 0].copy()"
   ]
  },
  {
   "cell_type": "code",
   "execution_count": 4,
   "id": "32a035c1",
   "metadata": {},
   "outputs": [],
   "source": [
    "subset.OCCP.fillna(9999, inplace=True)"
   ]
  },
  {
   "cell_type": "code",
   "execution_count": 5,
   "id": "f9854b49",
   "metadata": {},
   "outputs": [],
   "source": [
    "subset = subset[subset.PINCP > 1_600_000].copy()"
   ]
  },
  {
   "cell_type": "code",
   "execution_count": 6,
   "id": "dbc91f19",
   "metadata": {},
   "outputs": [],
   "source": [
    "codes = pd.read_csv('data/codes.csv')"
   ]
  },
  {
   "cell_type": "code",
   "execution_count": 7,
   "id": "e8519139",
   "metadata": {},
   "outputs": [],
   "source": [
    "code_name = {}\n",
    "for index, row in codes.iterrows():\n",
    "    try:\n",
    "        code = float(row['code'])\n",
    "    except ValueError:\n",
    "        continue\n",
    "    code_name[code] = row['occupation']"
   ]
  },
  {
   "cell_type": "code",
   "execution_count": 8,
   "id": "9c320822",
   "metadata": {},
   "outputs": [
    {
     "data": {
      "text/plain": [
       "531"
      ]
     },
     "execution_count": 8,
     "metadata": {},
     "output_type": "execute_result"
    }
   ],
   "source": [
    "len(code_name)"
   ]
  },
  {
   "cell_type": "code",
   "execution_count": 9,
   "id": "6c6fe90a",
   "metadata": {},
   "outputs": [],
   "source": [
    "categories = pd.read_csv('data/categories.csv')"
   ]
  },
  {
   "cell_type": "code",
   "execution_count": 10,
   "id": "49e165bf",
   "metadata": {},
   "outputs": [],
   "source": [
    "counts = dict(subset.OCCP.value_counts())"
   ]
  },
  {
   "cell_type": "code",
   "execution_count": 11,
   "id": "5501e9d1",
   "metadata": {},
   "outputs": [],
   "source": [
    "results = []\n",
    "\n",
    "for code, count in counts.items():\n",
    "    results.append([code_name[code], count, code, code])\n",
    "\n",
    "for index, row in categories.iterrows():\n",
    "    total = sum(count for code, count in counts.items()\n",
    "                if row['lowest_code'] <= code <= row['greatest_code'])\n",
    "    results.append([row['category'], total, row['lowest_code'], row['greatest_code']])"
   ]
  },
  {
   "cell_type": "code",
   "execution_count": 12,
   "id": "468bc676",
   "metadata": {},
   "outputs": [],
   "source": [
    "n = len(subset)"
   ]
  },
  {
   "cell_type": "code",
   "execution_count": 13,
   "id": "702677e8",
   "metadata": {},
   "outputs": [],
   "source": [
    "ordered = sorted(results, key=lambda x: (x[2], -x[3]))"
   ]
  },
  {
   "cell_type": "code",
   "execution_count": 14,
   "id": "11a1cef2",
   "metadata": {},
   "outputs": [
    {
     "data": {
      "text/plain": [
       "[['Management, Business, Science, and Arts Occupations', 3, 10, 3550],\n",
       " ['Management, Business, and Financial Occupations', 1, 10, 960],\n",
       " ['Management Occupations', 1, 10, 440]]"
      ]
     },
     "execution_count": 14,
     "metadata": {},
     "output_type": "execute_result"
    }
   ],
   "source": [
    "ordered[:3]"
   ]
  },
  {
   "cell_type": "code",
   "execution_count": 15,
   "id": "b3a21127",
   "metadata": {},
   "outputs": [
    {
     "name": "stdout",
     "output_type": "stream",
     "text": [
      "<details><summary>100.00% Management, Business, Science, and Arts Occupations</summary>\n",
      "<details><summary>33.33% Management, Business, and Financial Occupations</summary>\n",
      "<details><summary>33.33% Management Occupations</summary>\n",
      "<ul>\n",
      "<li>33.33% Financial Managers</li>\n",
      "</ul>\n",
      "</details>\n",
      "<details><summary> 0.00% Business and Financial Operations Occupations</summary>\n",
      "</details>\n",
      "</details>\n",
      "<details><summary> 0.00% Computer, Engineering, and Science Occupations</summary>\n",
      "<details><summary> 0.00% Computer and Mathematical Occupations</summary>\n",
      "</details>\n",
      "<details><summary> 0.00% Architecture and Engineering Occupations</summary>\n",
      "</details>\n",
      "<details><summary> 0.00% Life, Physical, and Social Science Occupations</summary>\n",
      "</details>\n",
      "</details>\n",
      "<details><summary>33.33% Education, Legal, Community Service, Arts, and Media Occupations</summary>\n",
      "<details><summary> 0.00% Community and Social Service Occupations</summary>\n",
      "</details>\n",
      "<details><summary> 0.00% Legal Occupations</summary>\n",
      "</details>\n",
      "<details><summary>33.33% Educational Instruction, and Library Occupations</summary>\n",
      "<ul>\n",
      "<li>33.33% Postsecondary Teachers</li>\n",
      "</ul>\n",
      "</details>\n",
      "<details><summary> 0.00% Arts, Design, Entertainment, Sports, and Media Occupations</summary>\n",
      "</details>\n",
      "</details>\n",
      "<details><summary>33.33% Healthcare Practitioners and Technical Occupations</summary>\n",
      "<ul>\n",
      "<li>33.33% Physicians</li>\n",
      "</ul>\n",
      "</details>\n",
      "</details>\n",
      "<details><summary> 0.00% Service Occupations</summary>\n",
      "<details><summary> 0.00% Healthcare Support Occupations</summary>\n",
      "</details>\n",
      "<details><summary> 0.00% Protective Service Occupations</summary>\n",
      "</details>\n",
      "<details><summary> 0.00% Food Preparation and Serving Related Occupations</summary>\n",
      "</details>\n",
      "<details><summary> 0.00% Building and Grounds Cleaning and Maintenance Occupations</summary>\n",
      "</details>\n",
      "<details><summary> 0.00% Personal Care and Service Occupations</summary>\n",
      "</details>\n",
      "</details>\n",
      "<details><summary> 0.00% Sales and Office Occupations</summary>\n",
      "<details><summary> 0.00% Sales and Related Occupations</summary>\n",
      "</details>\n",
      "<details><summary> 0.00% Office and Administrative Support Occupations</summary>\n",
      "</details>\n",
      "</details>\n",
      "<details><summary> 0.00% Natural Resources, Construction, and Maintenance Occupations</summary>\n",
      "<details><summary> 0.00% Farming, Fishing, and Forestry Occupations</summary>\n",
      "</details>\n",
      "<details><summary> 0.00% Construction and Extraction Occupations</summary>\n",
      "</details>\n",
      "<details><summary> 0.00% Installation, Maintenance, and Repair Occupations</summary>\n",
      "</details>\n",
      "</details>\n",
      "<details><summary> 0.00% Production, Transportation, and Material Moving Occupations</summary>\n",
      "<details><summary> 0.00% Production Occupations</summary>\n",
      "</details>\n",
      "<details><summary> 0.00% Transportation and Material Moving Occupations</summary>\n",
      "<details><summary> 0.00% Transportation Occupations</summary>\n",
      "</details>\n",
      "<details><summary> 0.00% Material Moving Occupations</summary>\n",
      "</details>\n",
      "</details>\n",
      "</details>\n",
      "<details><summary> 0.00% Military Specific Occupations</summary>\n"
     ]
    }
   ],
   "source": [
    "stack = [99999]\n",
    "in_list = False\n",
    "\n",
    "for name, number, first, last in ordered:\n",
    "    percent = f'{100 * number / n: >5.2f}'\n",
    "    if first == last:\n",
    "        if not in_list:\n",
    "            print('<ul>')\n",
    "            in_list = True\n",
    "        print(f'<li>{percent}% {name}</li>')\n",
    "        continue\n",
    "    else:\n",
    "        if in_list:\n",
    "            print('</ul>')\n",
    "            in_list = False\n",
    "    # Definitely doing a span\n",
    "    while first > stack[-1]:  # ending previous\n",
    "        print('</details>')\n",
    "        stack.pop()\n",
    "    print(f'<details><summary>{percent}% {name}</summary>')\n",
    "    stack.append(last)"
   ]
  },
  {
   "cell_type": "code",
   "execution_count": 16,
   "id": "ae55ebd1",
   "metadata": {},
   "outputs": [
    {
     "data": {
      "text/plain": [
       "[['Financial Managers', 1, 120.0, 120.0],\n",
       " ['Physicians', 1, 3090.0, 3090.0],\n",
       " ['Postsecondary Teachers', 1, 2205.0, 2205.0]]"
      ]
     },
     "execution_count": 16,
     "metadata": {},
     "output_type": "execute_result"
    }
   ],
   "source": [
    "[row for row in sorted(results, key=lambda x: -x[1]) if row[2] == row[3]][:10]"
   ]
  },
  {
   "cell_type": "code",
   "execution_count": 17,
   "id": "6e8db756",
   "metadata": {},
   "outputs": [
    {
     "data": {
      "text/plain": [
       "36"
      ]
     },
     "execution_count": 17,
     "metadata": {},
     "output_type": "execute_result"
    }
   ],
   "source": [
    "len(results)"
   ]
  },
  {
   "cell_type": "code",
   "execution_count": 20,
   "id": "9dc3babd",
   "metadata": {},
   "outputs": [
    {
     "name": "stdout",
     "output_type": "stream",
     "text": [
      "3 \n",
      "\n",
      "<ul>\n",
      "<li>33.3% Financial Managers</li>\n",
      "<li>33.3% Physicians</li>\n",
      "<li>33.3% Postsecondary Teachers</li>\n",
      "</ul>\n",
      "\n",
      " 100.0\n"
     ]
    }
   ],
   "source": [
    "print(sum(row[2] == row[3] for row in results), '\\n')\n",
    "\n",
    "ordered = [row for row in sorted(results, key=lambda x: -x[1]) if row[2] == row[3]]\n",
    "\n",
    "print('<ul>')\n",
    "total = 0\n",
    "for name, number, first, last in ordered:\n",
    "    if number / n < 0.01:\n",
    "        break\n",
    "    total += number\n",
    "    percent = f'{100 * number / n: >4.1f}'\n",
    "    print(f'<li>{percent}% {name}</li>')\n",
    "print('</ul>')\n",
    "    \n",
    "print('\\n', 100 * total / n)"
   ]
  },
  {
   "cell_type": "code",
   "execution_count": 19,
   "id": "364d30cd",
   "metadata": {},
   "outputs": [
    {
     "data": {
      "text/plain": [
       "[['Financial Managers', 1, 120.0, 120.0],\n",
       " ['Physicians', 1, 3090.0, 3090.0],\n",
       " ['Postsecondary Teachers', 1, 2205.0, 2205.0],\n",
       " ['Management, Business, Science, and Arts Occupations', 3, 10, 3550],\n",
       " ['Management, Business, and Financial Occupations', 1, 10, 960],\n",
       " ['Management Occupations', 1, 10, 440],\n",
       " ['Business and Financial Operations Occupations', 0, 500, 960],\n",
       " ['Computer, Engineering, and Science Occupations', 0, 1005, 1980],\n",
       " ['Computer and Mathematical Occupations', 0, 1005, 1240],\n",
       " ['Architecture and Engineering Occupations', 0, 1305, 1560],\n",
       " ['Life, Physical, and Social Science Occupations', 0, 1600, 1980],\n",
       " ['Education, Legal, Community Service, Arts, and Media Occupations',\n",
       "  1,\n",
       "  2001,\n",
       "  2970],\n",
       " ['Community and Social Service Occupations', 0, 2001, 2060],\n",
       " ['Legal Occupations', 0, 2100, 2180],\n",
       " ['Educational Instruction, and Library Occupations', 1, 2205, 2555],\n",
       " ['Arts, Design, Entertainment, Sports, and Media Occupations', 0, 2600, 2970],\n",
       " ['Healthcare Practitioners and Technical Occupations', 1, 3000, 3550],\n",
       " ['Service Occupations', 0, 3601, 4655],\n",
       " ['Healthcare Support Occupations', 0, 3601, 3655],\n",
       " ['Protective Service Occupations', 0, 3700, 3960],\n",
       " ['Food Preparation and Serving Related Occupations', 0, 4000, 4160],\n",
       " ['Building and Grounds Cleaning and Maintenance Occupations', 0, 4200, 4255],\n",
       " ['Personal Care and Service Occupations', 0, 4330, 4655],\n",
       " ['Sales and Office Occupations', 0, 4700, 5940],\n",
       " ['Sales and Related Occupations', 0, 4700, 4965],\n",
       " ['Office and Administrative Support Occupations', 0, 5000, 5940],\n",
       " ['Natural Resources, Construction, and Maintenance Occupations',\n",
       "  0,\n",
       "  6005,\n",
       "  7640],\n",
       " ['Farming, Fishing, and Forestry Occupations', 0, 6005, 6130],\n",
       " ['Construction and Extraction Occupations', 0, 6200, 6950],\n",
       " ['Installation, Maintenance, and Repair Occupations', 0, 7000, 7640],\n",
       " ['Production, Transportation, and Material Moving Occupations',\n",
       "  0,\n",
       "  7700,\n",
       "  9760],\n",
       " ['Production Occupations', 0, 7700, 8990],\n",
       " ['Transportation and Material Moving Occupations', 0, 9005, 9760],\n",
       " ['Transportation Occupations', 0, 9005, 9430],\n",
       " ['Material Moving Occupations', 0, 9510, 9760],\n",
       " ['Military Specific Occupations', 0, 9800, 9830]]"
      ]
     },
     "execution_count": 19,
     "metadata": {},
     "output_type": "execute_result"
    }
   ],
   "source": [
    "results"
   ]
  },
  {
   "cell_type": "code",
   "execution_count": null,
   "id": "3c79ed67",
   "metadata": {},
   "outputs": [],
   "source": []
  }
 ],
 "metadata": {
  "kernelspec": {
   "display_name": "Python 3 (ipykernel)",
   "language": "python",
   "name": "python3"
  },
  "language_info": {
   "codemirror_mode": {
    "name": "ipython",
    "version": 3
   },
   "file_extension": ".py",
   "mimetype": "text/x-python",
   "name": "python",
   "nbconvert_exporter": "python",
   "pygments_lexer": "ipython3",
   "version": "3.8.11"
  }
 },
 "nbformat": 4,
 "nbformat_minor": 5
}
